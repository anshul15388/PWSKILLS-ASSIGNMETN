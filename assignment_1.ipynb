{
 "cells": [
  {
   "cell_type": "markdown",
   "id": "48e6e8c9",
   "metadata": {},
   "source": [
    "Q1. Explain with an example each when to use a for loop and a while loop."
   ]
  },
  {
   "cell_type": "markdown",
   "id": "d817dce6",
   "metadata": {},
   "source": [
    "A \"For\" Loop is used to repeat a specific block of code a known number of times.\n",
    "A \"While\" Loop is used when this number of iteration not known"
   ]
  },
  {
   "cell_type": "code",
   "execution_count": 1,
   "id": "3249d549",
   "metadata": {},
   "outputs": [
    {
     "name": "stdout",
     "output_type": "stream",
     "text": [
      "Enter any number: 10\n",
      "10 * 1 = 10\n",
      "10 * 2 = 20\n",
      "10 * 3 = 30\n",
      "10 * 4 = 40\n",
      "10 * 5 = 50\n",
      "10 * 6 = 60\n",
      "10 * 7 = 70\n",
      "10 * 8 = 80\n",
      "10 * 9 = 90\n",
      "10 * 10 = 100\n"
     ]
    }
   ],
   "source": [
    "# Example of For loop\n",
    "# table of a no.\n",
    "num=int(input('Enter any number: '))\n",
    "table=1\n",
    "for i in range(1,11): # here we can see that our code will run for 10 times\n",
    "    table=num*i\n",
    "    print(num, '*', i, '=', table)\n",
    "    "
   ]
  },
  {
   "cell_type": "code",
   "execution_count": 2,
   "id": "b8abe156",
   "metadata": {},
   "outputs": [
    {
     "name": "stdout",
     "output_type": "stream",
     "text": [
      "Enter any number:10\n",
      "10 * 1 = 10\n",
      "10 * 2 = 20\n",
      "10 * 3 = 30\n",
      "10 * 4 = 40\n",
      "10 * 5 = 50\n",
      "10 * 6 = 60\n",
      "10 * 7 = 70\n",
      "10 * 8 = 80\n",
      "10 * 9 = 90\n",
      "10 * 10 = 100\n"
     ]
    }
   ],
   "source": [
    "# Example of While Loop\n",
    "# table of a no.\n",
    "num=int(input('Enter any number:'))\n",
    "table=1\n",
    "i=1              \n",
    "while i<=10: # here we don't know how many times our code will be executed\n",
    "    table = num*i \n",
    "    print(num, '*' , i, '=', table)\n",
    "    i=i+1 # here we have to give increment operator\n",
    "            "
   ]
  },
  {
   "cell_type": "markdown",
   "id": "2803de98",
   "metadata": {},
   "source": [
    "Q2. Write a python program to print the sum and product of the first 10 natural numbers using for\n",
    "and while loop."
   ]
  },
  {
   "cell_type": "code",
   "execution_count": 3,
   "id": "7b91ac3e",
   "metadata": {},
   "outputs": [
    {
     "name": "stdout",
     "output_type": "stream",
     "text": [
      "Sum of First 10 natural nos. is: 55\n",
      "product of First 10 natural nos. is: 3628800\n"
     ]
    }
   ],
   "source": [
    "# sum and product of first 10 nantural nos. using for loop\n",
    "sum=0\n",
    "prod=1\n",
    "for i in range(1,11):\n",
    "    sum = sum + i\n",
    "    prod=prod * i\n",
    "print('Sum of First 10 natural nos. is:',sum)\n",
    "print('product of First 10 natural nos. is:', prod)\n"
   ]
  },
  {
   "cell_type": "code",
   "execution_count": 4,
   "id": "205190a0",
   "metadata": {},
   "outputs": [
    {
     "name": "stdout",
     "output_type": "stream",
     "text": [
      "sum of First 10 natural nos.: 55\n",
      "product of First 10 natural nos.: 3628800\n"
     ]
    }
   ],
   "source": [
    "# sum and product of first 10 natural nos. using while loop\n",
    "sum=0\n",
    "prod=1\n",
    "i=1\n",
    "while i<=10:\n",
    "    sum = sum + i\n",
    "    prod = prod * i\n",
    "    i=i+1\n",
    "print('sum of First 10 natural nos.:', sum)\n",
    "print('product of First 10 natural nos.:',prod)"
   ]
  },
  {
   "cell_type": "markdown",
   "id": "a147bd09",
   "metadata": {},
   "source": [
    "Q3. Create a python program to compute the electricity bill for a household.\n",
    "The per-unit charges in rupees are as follows: For the first 100 units, the user will be charged Rs. 4.5 per\n",
    "unit, for the next 100 units, the user will be charged Rs. 6 per unit, and for the next 100 units, the user will\n",
    "be charged Rs. 10 per unit, After 300 units and above the user will be charged Rs. 20 per unit.\n",
    "\n",
    "You are required to take the units of electricity consumed in a month from the user as input.\n",
    "\n",
    "Your program must pass this test case: when the unit of electricity consumed by the user in a month is\n",
    "310, the total electricity bill should be 2250."
   ]
  },
  {
   "cell_type": "code",
   "execution_count": 5,
   "id": "905ed295",
   "metadata": {},
   "outputs": [
    {
     "name": "stdout",
     "output_type": "stream",
     "text": [
      "Please enter no. of units consumed in the month: 310\n",
      "Total Electricity bill of 310 units consumed is: 2250.0\n"
     ]
    }
   ],
   "source": [
    "# Electricity bill computation\n",
    "\n",
    "unit_of_electricity=int(input('Please enter no. of units consumed in the month: '))\n",
    "\n",
    "if unit_of_electricity<=100:\n",
    "    electricity_bill= 4.5 * unit_of_electricity\n",
    "else:\n",
    "    if unit_of_electricity>100 and unit_of_electricity<=200:\n",
    "        electricity_bill= (unit_of_electricity-100)*6 + 100 * 4.5\n",
    "    else:\n",
    "        if unit_of_electricity>200 and unit_of_electricity<=300:\n",
    "            electricity_bill= (unit_of_electricity-200)*10 + (100)*6 + 100 * 4.5\n",
    "        else:\n",
    "            electricity_bill= (unit_of_electricity-300)*20 + 100*10 + 100 * 6 + 100 * 4.5\n",
    "\n",
    "print('Total Electricity bill of',unit_of_electricity,'units consumed is:',electricity_bill)\n",
    "\n"
   ]
  },
  {
   "cell_type": "markdown",
   "id": "e1cfefc9",
   "metadata": {},
   "source": [
    "Q4. Create a list of numbers from 1 to 100. Use for loop and while loop to calculate the cube of each\n",
    "number and if the cube of that number is divisible by 4 or 5 then append that number in a list and print\n",
    "that list."
   ]
  },
  {
   "cell_type": "code",
   "execution_count": 6,
   "id": "d247c638",
   "metadata": {},
   "outputs": [
    {
     "name": "stdout",
     "output_type": "stream",
     "text": [
      "[8, 64, 125, 216, 512, 1000, 1728, 2744, 3375, 4096, 5832, 8000, 10648, 13824, 15625, 17576, 21952, 27000, 32768, 39304, 42875, 46656, 54872, 64000, 74088, 85184, 91125, 97336, 110592, 125000, 140608, 157464, 166375, 175616, 195112, 216000, 238328, 262144, 274625, 287496, 314432, 343000, 373248, 405224, 421875, 438976, 474552, 512000, 551368, 592704, 614125, 636056, 681472, 729000, 778688, 830584, 857375, 884736, 941192, 1000000]\n"
     ]
    }
   ],
   "source": [
    "# using for loop\n",
    "# list creation\n",
    "list=[]\n",
    "for i in range(1,101):\n",
    "    list.append(i)\n",
    "\n",
    "# our list has been created\n",
    "\n",
    "list_cube=[]\n",
    "\n",
    "for i in list:\n",
    "    if i**3%4==0 or i**3%5==0:\n",
    "        list_cube.append(i**3)\n",
    "\n",
    "print(list_cube)\n"
   ]
  },
  {
   "cell_type": "code",
   "execution_count": 7,
   "id": "6324c853",
   "metadata": {},
   "outputs": [
    {
     "name": "stdout",
     "output_type": "stream",
     "text": [
      "[8, 64, 125, 216, 512, 1000, 1728, 2744, 3375, 4096, 5832, 8000, 10648, 13824, 15625, 17576, 21952, 27000, 32768, 39304, 42875, 46656, 54872, 64000, 74088, 85184, 91125, 97336, 110592, 125000, 140608, 157464, 166375, 175616, 195112, 216000, 238328, 262144, 274625, 287496, 314432, 343000, 373248, 405224, 421875, 438976, 474552, 512000, 551368, 592704, 614125, 636056, 681472, 729000, 778688, 830584, 857375, 884736, 941192, 1000000]\n"
     ]
    }
   ],
   "source": [
    "# using while loop\n",
    "list_cube_while=[]\n",
    "i=1\n",
    "while i<=100:\n",
    "    if i**3%4==0 or i**3%5==0:\n",
    "        list_cube_while.append(i**3)\n",
    "    i=i+1\n",
    "print(list_cube_while)"
   ]
  },
  {
   "cell_type": "markdown",
   "id": "659dc4c6",
   "metadata": {},
   "source": [
    "Q5. Write a program to filter count vowels in the below-given string.\n",
    "string = \"I want to become a data scientist\""
   ]
  },
  {
   "cell_type": "code",
   "execution_count": 8,
   "id": "7182db79",
   "metadata": {},
   "outputs": [],
   "source": [
    "string=\"I want to become a data scientist\""
   ]
  },
  {
   "cell_type": "code",
   "execution_count": 9,
   "id": "f1790192",
   "metadata": {},
   "outputs": [
    {
     "data": {
      "text/plain": [
       "33"
      ]
     },
     "execution_count": 9,
     "metadata": {},
     "output_type": "execute_result"
    }
   ],
   "source": [
    "len(string)"
   ]
  },
  {
   "cell_type": "code",
   "execution_count": 10,
   "id": "18242089",
   "metadata": {},
   "outputs": [
    {
     "name": "stdout",
     "output_type": "stream",
     "text": [
      "Total no. of vowels: 12\n",
      "List of vowels in string: ['I', 'a', 'o', 'e', 'o', 'e', 'a', 'a', 'a', 'i', 'e', 'i']\n"
     ]
    }
   ],
   "source": [
    "count_vowel=0\n",
    "vowel_list=[]\n",
    "for i in string:\n",
    "    if i=='a' or i=='e' or i=='i' or i=='o' or i=='u' or i=='A' or i=='E' or i=='I' or i=='O' or i=='U':\n",
    "        \n",
    "        count_vowel=count_vowel+1\n",
    "        vowel_list.append(i)\n",
    "print('Total no. of vowels:',count_vowel)\n",
    "print('List of vowels in string:', vowel_list)"
   ]
  },
  {
   "cell_type": "code",
   "execution_count": null,
   "id": "5e899ffb",
   "metadata": {},
   "outputs": [],
   "source": []
  }
 ],
 "metadata": {
  "kernelspec": {
   "display_name": "Python 3 (ipykernel)",
   "language": "python",
   "name": "python3"
  },
  "language_info": {
   "codemirror_mode": {
    "name": "ipython",
    "version": 3
   },
   "file_extension": ".py",
   "mimetype": "text/x-python",
   "name": "python",
   "nbconvert_exporter": "python",
   "pygments_lexer": "ipython3",
   "version": "3.9.12"
  }
 },
 "nbformat": 4,
 "nbformat_minor": 5
}
